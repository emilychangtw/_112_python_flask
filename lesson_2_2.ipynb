{
 "cells": [
  {
   "cell_type": "code",
   "execution_count": 1,
   "metadata": {},
   "outputs": [
    {
     "name": "stdout",
     "output_type": "stream",
     "text": [
      "579\n"
     ]
    }
   ],
   "source": [
    "n = 123\n",
    "m = 456\n",
    "result = input(f\"請輸入 {n} + {m} 的數值:\")\n",
    "print(result)"
   ]
  },
  {
   "cell_type": "code",
   "execution_count": 17,
   "metadata": {},
   "outputs": [
    {
     "name": "stdout",
     "output_type": "stream",
     "text": [
      "\n"
     ]
    }
   ],
   "source": [
    "n = 87.9\n",
    "m = 45\n",
    "p = 87.5\n",
    "result = input(f\"請輸入第一個數: {n} 請輸入第二個數: {m} 請輸入第三個數: {p}\")\n",
    "print(result)"
   ]
  },
  {
   "attachments": {},
   "cell_type": "markdown",
   "metadata": {},
   "source": [
    "#請輸入第一個數:87.9\n",
    "#請輸入第二個數:45\n",
    "#請輸入等三個數:87.5\n",
    "\n",
    "n = float(input(\"請輸入第1個數:\"))\n",
    "m = float(input(\"請輸入第2個數:\"))\n",
    "x = float(input(\"請輸入第3個數:\"))\n",
    "\n",
    "result = n + m + x\n",
    "print(f\"{n} + {m} + {x} = {result}\")"
   ]
  },
  {
   "cell_type": "code",
   "execution_count": 18,
   "metadata": {},
   "outputs": [
    {
     "name": "stdout",
     "output_type": "stream",
     "text": [
      "10.0 + 20.0 + 30.0 = 60.0\n"
     ]
    }
   ],
   "source": [
    "#請輸入第一個數:87.9\n",
    "#請輸入第二個數:45\n",
    "#請輸入等三個數:87.5\n",
    "\n",
    "n = float(input(\"請輸入第1個數:\"))\n",
    "m = float(input(\"請輸入第2個數:\"))\n",
    "x = float(input(\"請輸入第3個數:\"))\n",
    "\n",
    "result = n + m + x\n",
    "print(f\"{n} + {m} + {x} = {result}\")"
   ]
  },
  {
   "cell_type": "code",
   "execution_count": 19,
   "metadata": {},
   "outputs": [
    {
     "name": "stdout",
     "output_type": "stream",
     "text": [
      "總合為 = 60.0\n"
     ]
    }
   ],
   "source": [
    "#請輸入第一個數:87.9\n",
    "#請輸入第二個數:45\n",
    "#請輸入等三個數:87.5\n",
    "result = 0\n",
    "n = float(input(\"請輸入第1個數:\"))\n",
    "result += n\n",
    "n = float(input(\"請輸入第2個數:\"))\n",
    "result += n\n",
    "n = float(input(\"請輸入第3個數:\"))\n",
    "result += n\n",
    "\n",
    "print(f\"總合為 = {result}\")"
   ]
  },
  {
   "cell_type": "code",
   "execution_count": 20,
   "metadata": {},
   "outputs": [
    {
     "name": "stdout",
     "output_type": "stream",
     "text": [
      "10.0 + 20.0 + 30.0 = 60.0\n"
     ]
    }
   ],
   "source": [
    "#請輸入第一個數:87.9\n",
    "#請輸入第二個數:45\n",
    "#請輸入等三個數:87.5\n",
    "result = 0\n",
    "n = float(input(\"請輸入第1個數:\"))\n",
    "result += n\n",
    "m = float(input(\"請輸入第2個數:\"))\n",
    "result += m\n",
    "x = float(input(\"請輸入第3個數:\"))\n",
    "result += x\n",
    "\n",
    "print(f\"{n} + {m} + {x} = {result}\")"
   ]
  },
  {
   "cell_type": "code",
   "execution_count": 21,
   "metadata": {},
   "outputs": [
    {
     "ename": "NameError",
     "evalue": "name 'x2' is not defined",
     "output_type": "error",
     "traceback": [
      "\u001b[0;31m---------------------------------------------------------------------------\u001b[0m",
      "\u001b[0;31mNameError\u001b[0m                                 Traceback (most recent call last)",
      "Cell \u001b[0;32mIn[21], line 13\u001b[0m\n\u001b[1;32m     11\u001b[0m p \u001b[39m=\u001b[39m \u001b[39mfloat\u001b[39m(\u001b[39minput\u001b[39m(\u001b[39m\"\u001b[39m\u001b[39m請輸入梯形的高(公分)\u001b[39m\u001b[39m\"\u001b[39m))\n\u001b[1;32m     12\u001b[0m result \u001b[39m*\u001b[39m\u001b[39m=\u001b[39m p\n\u001b[0;32m---> 13\u001b[0m result \u001b[39m/\u001b[39m\u001b[39m/\u001b[39m\u001b[39m=\u001b[39m x2\n\u001b[1;32m     14\u001b[0m \u001b[39mprint\u001b[39m(\u001b[39mf\u001b[39m\u001b[39m\"\u001b[39m\u001b[39m{\u001b[39;00mn\u001b[39m}\u001b[39;00m\u001b[39m + \u001b[39m\u001b[39m{\u001b[39;00mm\u001b[39m}\u001b[39;00m\u001b[39m + \u001b[39m\u001b[39m{\u001b[39;00mp\u001b[39m}\u001b[39;00m\u001b[39m = \u001b[39m\u001b[39m{\u001b[39;00mresult\u001b[39m}\u001b[39;00m\u001b[39m\"\u001b[39m)\n",
      "\u001b[0;31mNameError\u001b[0m: name 'x2' is not defined"
     ]
    }
   ],
   "source": [
    "#請輸入梯形的上底(公分):5\n",
    "#請輸入梯形的下底(公分):10\n",
    "#請輸入梯形的高(公分):2\n",
    "#梯形的面積:15平方公分\n",
    "\n",
    "result = 0\n",
    "n = float(input(\"請輸入梯形的上底(公分):\"))\n",
    "result += n\n",
    "m = float(input(\"請輸入梯形的下底(公分)\"))\n",
    "result += m\n",
    "p = float(input(\"請輸入梯形的高(公分)\"))\n",
    "result *= p\n",
    "result //= x2\n",
    "print(f\"{n} + {m} + {p} = {result}\")"
   ]
  }
 ],
 "metadata": {
  "kernelspec": {
   "display_name": "Python 3",
   "language": "python",
   "name": "python3"
  },
  "language_info": {
   "codemirror_mode": {
    "name": "ipython",
    "version": 3
   },
   "file_extension": ".py",
   "mimetype": "text/x-python",
   "name": "python",
   "nbconvert_exporter": "python",
   "pygments_lexer": "ipython3",
   "version": "3.10.4"
  },
  "orig_nbformat": 4
 },
 "nbformat": 4,
 "nbformat_minor": 2
}
