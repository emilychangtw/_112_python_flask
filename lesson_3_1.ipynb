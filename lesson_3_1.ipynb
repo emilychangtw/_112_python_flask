{
 "cells": [
  {
   "cell_type": "code",
   "execution_count": 1,
   "metadata": {},
   "outputs": [
    {
     "name": "stdout",
     "output_type": "stream",
     "text": [
      "<class 'int'>\n"
     ]
    }
   ],
   "source": [
    "print(type(13))"
   ]
  },
  {
   "cell_type": "code",
   "execution_count": 2,
   "metadata": {},
   "outputs": [
    {
     "data": {
      "text/plain": [
       "(True, False)"
      ]
     },
     "execution_count": 2,
     "metadata": {},
     "output_type": "execute_result"
    }
   ],
   "source": [
    "5==5,3==5"
   ]
  },
  {
   "cell_type": "code",
   "execution_count": 4,
   "metadata": {},
   "outputs": [
    {
     "name": "stdout",
     "output_type": "stream",
     "text": [
      "已經滿18\n",
      "可以考駕照\n",
      "應用程式執行\n"
     ]
    }
   ],
   "source": [
    "age=18\n",
    "if age >= 18: #單項選擇\n",
    "    print(\"已經滿18\")\n",
    "    print(\"可以考駕照\")\n",
    "print(\"應用程式執行\")\n",
    "\n"
   ]
  },
  {
   "cell_type": "code",
   "execution_count": 6,
   "metadata": {},
   "outputs": [
    {
     "name": "stdout",
     "output_type": "stream",
     "text": [
      "未滿18\n",
      "不可以考駕照\n",
      "應用程式執行\n"
     ]
    }
   ],
   "source": [
    "age = 15\n",
    "if age >= 18: #雙項選擇\n",
    "    print(\"已經滿18\")\n",
    "    print(\"可以考駕照\")\n",
    "else:\n",
    "    print(\"未滿18\")\n",
    "    print(\"不可以考駕照\")\n",
    "print(\"應用程式執行\")"
   ]
  },
  {
   "cell_type": "code",
   "execution_count": 8,
   "metadata": {},
   "outputs": [
    {
     "name": "stdout",
     "output_type": "stream",
     "text": [
      "應用程式執行\n"
     ]
    }
   ],
   "source": [
    "age = 15\n",
    "if age >= 18: #雙項選擇\n",
    "    print(\"已經滿18\")\n",
    "    print(\"可以考駕照\")\n",
    "else:\n",
    "    pass\n",
    "print(\"應用程式執行\")"
   ]
  },
  {
   "cell_type": "code",
   "execution_count": 9,
   "metadata": {},
   "outputs": [
    {
     "name": "stdout",
     "output_type": "stream",
     "text": [
      "已經滿18\n",
      "可以考駕照\n",
      "應用程式執行\n"
     ]
    }
   ],
   "source": [
    "age = 25\n",
    "if age >= 18: #雙項選擇\n",
    "    print(\"已經滿18\")\n",
    "    print(\"可以考駕照\")\n",
    "else:\n",
    "    pass\n",
    "print(\"應用程式執行\")"
   ]
  },
  {
   "cell_type": "code",
   "execution_count": 17,
   "metadata": {},
   "outputs": [
    {
     "name": "stdout",
     "output_type": "stream",
     "text": [
      "成績等級為:丁\n"
     ]
    }
   ],
   "source": [
    "score = int(input(\"請輸入分數\"))\n",
    "if score >= 90:\n",
    "   grade = '優'\n",
    "elif score >= 80:\n",
    "   grade = '甲'\n",
    "elif score >= 70:\n",
    "   grade = '乙'\n",
    "elif score >= 60:\n",
    "   grade = '丙'\n",
    "else :\n",
    "   grade = '丁'\n",
    "print (f\"成績等級為:{grade}\")\n",
    "\n",
    "\n",
    "\n"
   ]
  },
  {
   "cell_type": "code",
   "execution_count": 18,
   "metadata": {},
   "outputs": [
    {
     "name": "stdout",
     "output_type": "stream",
     "text": [
      "成績等級為:丁\n"
     ]
    }
   ],
   "source": [
    "score = float(input(\"請輸入分數\"))\n",
    "if score >= 90:\n",
    "   grade = '優'\n",
    "elif score >= 80:\n",
    "   grade = '甲'\n",
    "elif score >= 70:\n",
    "   grade = '乙'\n",
    "elif score >= 60:\n",
    "   grade = '丙'\n",
    "else :\n",
    "   grade = '丁'\n",
    "print (f\"成績等級為:{grade}\")"
   ]
  }
 ],
 "metadata": {
  "kernelspec": {
   "display_name": "Python 3",
   "language": "python",
   "name": "python3"
  },
  "language_info": {
   "codemirror_mode": {
    "name": "ipython",
    "version": 3
   },
   "file_extension": ".py",
   "mimetype": "text/x-python",
   "name": "python",
   "nbconvert_exporter": "python",
   "pygments_lexer": "ipython3",
   "version": "3.9.16"
  },
  "orig_nbformat": 4
 },
 "nbformat": 4,
 "nbformat_minor": 2
}
