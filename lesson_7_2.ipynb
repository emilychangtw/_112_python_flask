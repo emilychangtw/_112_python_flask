{
 "cells": [
  {
   "cell_type": "code",
   "execution_count": 4,
   "metadata": {},
   "outputs": [
    {
     "name": "stdout",
     "output_type": "stream",
     "text": [
      "連線成功\n",
      "<class 'list'>\n"
     ]
    }
   ],
   "source": [
    "import requests\n",
    "url = 'https://tcgbusfs.blob.core.windows.net/dotapp/youbike/v2/youbike_immediate.json'\n",
    "response = requests.request('GET',url)\n",
    "if response.status_code == 200:\n",
    "    print(\"連線成功\")\n",
    "    all_data = response.json()\n",
    "    print(type(all_data))\n",
    "else:\n",
    "    print(f\"連線失敗:{response.status_code}\")"
   ]
  },
  {
   "cell_type": "code",
   "execution_count": 7,
   "metadata": {},
   "outputs": [
    {
     "ename": "ModuleNotFoundError",
     "evalue": "No module named 'pandas'",
     "output_type": "error",
     "traceback": [
      "\u001b[0;31m---------------------------------------------------------------------------\u001b[0m",
      "\u001b[0;31mModuleNotFoundError\u001b[0m                       Traceback (most recent call last)",
      "Cell \u001b[0;32mIn[7], line 1\u001b[0m\n\u001b[0;32m----> 1\u001b[0m \u001b[39mimport\u001b[39;00m \u001b[39mpandas\u001b[39;00m \u001b[39mas\u001b[39;00m \u001b[39mpd\u001b[39;00m\n\u001b[1;32m      2\u001b[0m dataFrame \u001b[39m=\u001b[39m pd\u001b[39m.\u001b[39mDataFrame(data\u001b[39m=\u001b[39mall_data)\n\u001b[1;32m      3\u001b[0m dataFrame\n",
      "\u001b[0;31mModuleNotFoundError\u001b[0m: No module named 'pandas'"
     ]
    }
   ],
   "source": [
    "import pandas as pd\n",
    "\n",
    "dataFrame = pd.DataFrame(data=all_data,columns=['sna','tot','sbi','sarea','mday','ar','bemp','act'])\n",
    "dataFrame"
   ]
  },
  {
   "cell_type": "code",
   "execution_count": null,
   "metadata": {},
   "outputs": [
    {
     "ename": "NameError",
     "evalue": "name 'dataFrame' is not defined",
     "output_type": "error",
     "traceback": [
      "\u001b[0;31m---------------------------------------------------------------------------\u001b[0m",
      "\u001b[0;31mNameError\u001b[0m                                 Traceback (most recent call last)",
      "Cell \u001b[0;32mIn[3], line 2\u001b[0m\n\u001b[1;32m      1\u001b[0m \u001b[39m#選取欄位\u001b[39;00m\n\u001b[0;32m----> 2\u001b[0m dataFrame[[\u001b[39m'\u001b[39m\u001b[39msna\u001b[39m\u001b[39m'\u001b[39m, \u001b[39m'\u001b[39m\u001b[39mtot\u001b[39m\u001b[39m'\u001b[39m, \u001b[39m'\u001b[39m\u001b[39msbi\u001b[39m\u001b[39m'\u001b[39m]]\n",
      "\u001b[0;31mNameError\u001b[0m: name 'dataFrame' is not defined"
     ]
    }
   ],
   "source": [
    "#選取欄位\n",
    "dataFrame[['sna', 'tot', 'sbi']]"
   ]
  },
  {
   "cell_type": "code",
   "execution_count": null,
   "metadata": {},
   "outputs": [
    {
     "ename": "NameError",
     "evalue": "name 'dataFrame' is not defined",
     "output_type": "error",
     "traceback": [
      "\u001b[0;31m---------------------------------------------------------------------------\u001b[0m",
      "\u001b[0;31mNameError\u001b[0m                                 Traceback (most recent call last)",
      "Cell \u001b[0;32mIn[4], line 2\u001b[0m\n\u001b[1;32m      1\u001b[0m \u001b[39m#選取列(slice)\u001b[39;00m\n\u001b[0;32m----> 2\u001b[0m dataFrame[\u001b[39m67\u001b[39m:\u001b[39m72\u001b[39m]\n",
      "\u001b[0;31mNameError\u001b[0m: name 'dataFrame' is not defined"
     ]
    }
   ],
   "source": [
    "#選取列(slice)\n",
    "dataFrame[67:72]"
   ]
  },
  {
   "cell_type": "code",
   "execution_count": null,
   "metadata": {},
   "outputs": [
    {
     "ename": "NameError",
     "evalue": "name 'dataFrame' is not defined",
     "output_type": "error",
     "traceback": [
      "\u001b[0;31m---------------------------------------------------------------------------\u001b[0m",
      "\u001b[0;31mNameError\u001b[0m                                 Traceback (most recent call last)",
      "Cell \u001b[0;32mIn[5], line 3\u001b[0m\n\u001b[1;32m      1\u001b[0m \u001b[39m#同時選取欄例\u001b[39;00m\n\u001b[1;32m      2\u001b[0m \u001b[39m#loc[index,column],iloc[index,column]\u001b[39;00m\n\u001b[0;32m----> 3\u001b[0m dataFrame\u001b[39m.\u001b[39mloc[\u001b[39m100\u001b[39m:\u001b[39m120\u001b[39m,[\u001b[39m'\u001b[39m\u001b[39msna\u001b[39m\u001b[39m'\u001b[39m,\u001b[39m'\u001b[39m\u001b[39msarea\u001b[39m\u001b[39m'\u001b[39m]]\n",
      "\u001b[0;31mNameError\u001b[0m: name 'dataFrame' is not defined"
     ]
    }
   ],
   "source": [
    "#同時選取欄例\n",
    "#loc[index,column],iloc[index,column]\n",
    "dataFrame.loc[100:120,['sna','sarea']]"
   ]
  },
  {
   "cell_type": "code",
   "execution_count": null,
   "metadata": {},
   "outputs": [
    {
     "ename": "NameError",
     "evalue": "name 'dataFrame' is not defined",
     "output_type": "error",
     "traceback": [
      "\u001b[0;31m---------------------------------------------------------------------------\u001b[0m",
      "\u001b[0;31mNameError\u001b[0m                                 Traceback (most recent call last)",
      "Cell \u001b[0;32mIn[6], line 1\u001b[0m\n\u001b[0;32m----> 1\u001b[0m dataFrame\u001b[39m.\u001b[39miloc[\u001b[39m100\u001b[39m:\u001b[39m120\u001b[39m,[\u001b[39m0\u001b[39m,\u001b[39m3\u001b[39m]]\n",
      "\u001b[0;31mNameError\u001b[0m: name 'dataFrame' is not defined"
     ]
    }
   ],
   "source": [
    "dataFrame.iloc[100:120,[0,3]]"
   ]
  },
  {
   "cell_type": "code",
   "execution_count": null,
   "metadata": {},
   "outputs": [
    {
     "ename": "NameError",
     "evalue": "name 'dataFrame' is not defined",
     "output_type": "error",
     "traceback": [
      "\u001b[0;31m---------------------------------------------------------------------------\u001b[0m",
      "\u001b[0;31mNameError\u001b[0m                                 Traceback (most recent call last)",
      "Cell \u001b[0;32mIn[7], line 6\u001b[0m\n\u001b[1;32m      1\u001b[0m \u001b[39m#搜尋欄位值內的資料\u001b[39;00m\n\u001b[1;32m      2\u001b[0m \u001b[39m#1先抓出Series\u001b[39;00m\n\u001b[1;32m      3\u001b[0m \n\u001b[1;32m      4\u001b[0m \u001b[39m#bool Series\u001b[39;00m\n\u001b[1;32m      5\u001b[0m \u001b[39mmin\u001b[39m \u001b[39m=\u001b[39m \u001b[39mint\u001b[39m(\u001b[39minput\u001b[39m(\u001b[39m\"\u001b[39m\u001b[39m請輸入要查詢的可借數量:\u001b[39m\u001b[39m\"\u001b[39m))\n\u001b[0;32m----> 6\u001b[0m mask \u001b[39m=\u001b[39m dataFrame[\u001b[39m'\u001b[39m\u001b[39msbi\u001b[39m\u001b[39m'\u001b[39m] \u001b[39m<\u001b[39m\u001b[39m=\u001b[39m \u001b[39mmin\u001b[39m\n\u001b[1;32m      7\u001b[0m mask_dataFrame \u001b[39m=\u001b[39m dataFrame[mask]\n\u001b[1;32m      8\u001b[0m mask_dataFrame\u001b[39m.\u001b[39mto_csv(\u001b[39m'\u001b[39m\u001b[39m可借小於3的站點.csv\u001b[39m\u001b[39m'\u001b[39m)\n",
      "\u001b[0;31mNameError\u001b[0m: name 'dataFrame' is not defined"
     ]
    }
   ],
   "source": [
    "#搜尋欄位值內的資料\n",
    "#1先抓出Series\n",
    "\n",
    "#bool Series\n",
    "min = int(input(\"請輸入要查詢的可借數量:\"))\n",
    "mask = dataFrame['sbi'] <= min\n",
    "mask_dataFrame = dataFrame[mask]\n",
    "mask_dataFrame.to_csv('可借小於3的站點.csv')\n",
    "filename = f'可借小於{min}的站點.xlsx'\n",
    "mask_dataFrame.to_excel(filename)"
   ]
  },
  {
   "cell_type": "code",
   "execution_count": null,
   "metadata": {},
   "outputs": [
    {
     "ename": "NameError",
     "evalue": "name 'mask_dataFrame' is not defined",
     "output_type": "error",
     "traceback": [
      "\u001b[0;31m---------------------------------------------------------------------------\u001b[0m",
      "\u001b[0;31mNameError\u001b[0m                                 Traceback (most recent call last)",
      "Cell \u001b[0;32mIn[10], line 2\u001b[0m\n\u001b[1;32m      1\u001b[0m filename \u001b[39m=\u001b[39m \u001b[39mf\u001b[39m\u001b[39m'\u001b[39m\u001b[39m可借小於\u001b[39m\u001b[39m{\u001b[39;00m\u001b[39mmin\u001b[39m\u001b[39m}\u001b[39;00m\u001b[39m的站點.xlsx\u001b[39m\u001b[39m'\u001b[39m\n\u001b[0;32m----> 2\u001b[0m mask_dataFrame\u001b[39m.\u001b[39mto_excel(\u001b[39m'\u001b[39m\u001b[39m可借小於3的站點.xlsx\u001b[39m\u001b[39m'\u001b[39m)\n",
      "\u001b[0;31mNameError\u001b[0m: name 'mask_dataFrame' is not defined"
     ]
    }
   ],
   "source": [
    "filename = f'可借小於{min}的站點.xlsx'\n",
    "mask_dataFrame.to_excel('可借小於3的站點.xlsx')"
   ]
  }
 ],
 "metadata": {
  "kernelspec": {
   "display_name": "Python 3",
   "language": "python",
   "name": "python3"
  },
  "language_info": {
   "codemirror_mode": {
    "name": "ipython",
    "version": 3
   },
   "file_extension": ".py",
   "mimetype": "text/x-python",
   "name": "python",
   "nbconvert_exporter": "python",
   "pygments_lexer": "ipython3",
   "version": "3.9.16"
  },
  "orig_nbformat": 4
 },
 "nbformat": 4,
 "nbformat_minor": 2
}
